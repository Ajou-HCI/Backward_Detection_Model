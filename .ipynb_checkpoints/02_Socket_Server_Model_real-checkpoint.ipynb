{
 "cells": [
  {
   "cell_type": "markdown",
   "metadata": {},
   "source": [
    "# Server"
   ]
  },
  {
   "cell_type": "code",
   "execution_count": 1,
   "metadata": {},
   "outputs": [
    {
     "name": "stderr",
     "output_type": "stream",
     "text": [
      "C:\\Users\\Seungwon\\Anaconda3\\lib\\site-packages\\sklearn\\externals\\joblib\\__init__.py:15: DeprecationWarning: sklearn.externals.joblib is deprecated in 0.21 and will be removed in 0.23. Please import this functionality directly from joblib, which can be installed with: pip install joblib. If this warning is raised when loading pickled models, you may need to re-serialize those models with scikit-learn 0.21+.\n",
      "  warnings.warn(msg, category=DeprecationWarning)\n"
     ]
    }
   ],
   "source": [
    "import socket\n",
    "import threading;\n",
    "\n",
    "import pickle\n",
    "from sklearn.externals import joblib\n",
    "import time\n",
    "\n",
    "import warnings \n",
    "warnings.filterwarnings(\"ignore\")\n",
    "\n",
    "from pandas import Series\n",
    "from pandas import DataFrame as df"
   ]
  },
  {
   "cell_type": "code",
   "execution_count": 2,
   "metadata": {},
   "outputs": [],
   "source": [
    "def binder(client_socket, addr):\n",
    "    print('Connected by', addr)\n",
    "    \n",
    "    clf_from_joblib = joblib.load(\"0603_PSW_RFmodel_slippers.pkl\") # 모델 로드\n",
    "    scaler = joblib.load(\"0603_PSW_scaler_slippers.pkl\") # 스케일러 로드\n",
    "    try:\n",
    "        while True:\n",
    "            data = client_socket.recv(1024)\n",
    "            print(len(data))\n",
    "            \n",
    "            msg = data.decode()\n",
    "            print('Received from', addr, msg)\n",
    "            parse = msg.split(\",\")\n",
    "#             print(\"파싱결과\")\n",
    "#             print(parse)\n",
    "            data_list = [\n",
    "                float(parse[6]),\n",
    "                float(parse[7]),\n",
    "                float(parse[8]),\n",
    "                float(parse[12]),\n",
    "                float(parse[13]),\n",
    "                float(parse[14]),\n",
    "#                 float(parse[18]),\n",
    "#                 float(parse[19]),\n",
    "#                 float(parse[20])\n",
    "            ]\n",
    "            \n",
    "            step_input = df(data_list).transpose()\n",
    "            print(step_input)\n",
    "            \n",
    "            step_input = step_input.round(1)            \n",
    "            step_input = df(scaler.transform(step_input)) # 노멀라이즈            \n",
    "            print(step_input)\n",
    "            \n",
    "            result = clf_from_joblib.predict(step_input) # 스텝인풋 적용 결과            \n",
    "            print(result)\n",
    "\n",
    "            msg = result[0]\n",
    "            data = msg.encode()\n",
    "            length = len(data)\n",
    "            client_socket.sendall(data)\n",
    "    except:\n",
    "        print(\"except : \" , addr)\n",
    "    finally:\n",
    "        client_socket.close()"
   ]
  },
  {
   "cell_type": "code",
   "execution_count": null,
   "metadata": {
    "scrolled": true
   },
   "outputs": [
    {
     "name": "stdout",
     "output_type": "stream",
     "text": [
      "Connected by ('221.162.120.62', 52310)\n"
     ]
    },
    {
     "name": "stderr",
     "output_type": "stream",
     "text": [
      "Exception in thread Thread-6:\n",
      "Traceback (most recent call last):\n",
      "  File \"C:\\Users\\Seungwon\\Anaconda3\\lib\\threading.py\", line 926, in _bootstrap_inner\n",
      "    self.run()\n",
      "  File \"C:\\Users\\Seungwon\\Anaconda3\\lib\\threading.py\", line 870, in run\n",
      "    self._target(*self._args, **self._kwargs)\n",
      "  File \"<ipython-input-2-6fa69fe9cd14>\", line 4, in binder\n",
      "    clf_from_joblib = joblib.load(\"0603_PSW_RFmodel_slippers.pkl\") # 모델 로드\n",
      "  File \"C:\\Users\\Seungwon\\Anaconda3\\lib\\site-packages\\joblib\\numpy_pickle.py\", line 590, in load\n",
      "    with open(filename, 'rb') as f:\n",
      "FileNotFoundError: [Errno 2] No such file or directory: '0603_PSW_RFmodel_slippers.pkl'\n",
      "\n"
     ]
    }
   ],
   "source": [
    "server_socket = socket.socket(socket.AF_INET, socket.SOCK_STREAM)\n",
    "server_socket.setsockopt(socket.SOL_SOCKET, socket.SO_REUSEADDR, 1)\n",
    "# server_socket.bind(('127.0.0.1', 7777))\n",
    "server_socket.bind(('210.107.197.67', 7777))\n",
    "server_socket.listen()\n",
    "\n",
    "try:\n",
    "    while True:\n",
    "        client_socket, addr = server_socket.accept()\n",
    "        th = threading.Thread(target=binder, args = (client_socket,addr))\n",
    "        th.start()\n",
    "except:\n",
    "    print(\"server\")\n",
    "finally:\n",
    "    server_socket.close()"
   ]
  },
  {
   "cell_type": "code",
   "execution_count": null,
   "metadata": {},
   "outputs": [],
   "source": []
  },
  {
   "cell_type": "code",
   "execution_count": null,
   "metadata": {},
   "outputs": [],
   "source": []
  },
  {
   "cell_type": "code",
   "execution_count": null,
   "metadata": {},
   "outputs": [],
   "source": []
  },
  {
   "cell_type": "code",
   "execution_count": null,
   "metadata": {},
   "outputs": [],
   "source": []
  },
  {
   "cell_type": "code",
   "execution_count": null,
   "metadata": {},
   "outputs": [],
   "source": []
  },
  {
   "cell_type": "code",
   "execution_count": null,
   "metadata": {},
   "outputs": [],
   "source": []
  },
  {
   "cell_type": "code",
   "execution_count": null,
   "metadata": {},
   "outputs": [],
   "source": []
  },
  {
   "cell_type": "code",
   "execution_count": null,
   "metadata": {},
   "outputs": [],
   "source": []
  },
  {
   "cell_type": "code",
   "execution_count": null,
   "metadata": {},
   "outputs": [],
   "source": []
  },
  {
   "cell_type": "code",
   "execution_count": null,
   "metadata": {},
   "outputs": [],
   "source": []
  },
  {
   "cell_type": "code",
   "execution_count": null,
   "metadata": {},
   "outputs": [],
   "source": []
  },
  {
   "cell_type": "code",
   "execution_count": null,
   "metadata": {},
   "outputs": [],
   "source": []
  },
  {
   "cell_type": "code",
   "execution_count": null,
   "metadata": {},
   "outputs": [],
   "source": []
  },
  {
   "cell_type": "code",
   "execution_count": null,
   "metadata": {},
   "outputs": [],
   "source": []
  },
  {
   "cell_type": "code",
   "execution_count": null,
   "metadata": {},
   "outputs": [],
   "source": []
  },
  {
   "cell_type": "code",
   "execution_count": null,
   "metadata": {},
   "outputs": [],
   "source": []
  }
 ],
 "metadata": {
  "kernelspec": {
   "display_name": "Python 3",
   "language": "python",
   "name": "python3"
  },
  "language_info": {
   "codemirror_mode": {
    "name": "ipython",
    "version": 3
   },
   "file_extension": ".py",
   "mimetype": "text/x-python",
   "name": "python",
   "nbconvert_exporter": "python",
   "pygments_lexer": "ipython3",
   "version": "3.8.3"
  }
 },
 "nbformat": 4,
 "nbformat_minor": 2
}
