{
 "cells": [
  {
   "cell_type": "markdown",
   "metadata": {},
   "source": [
    "# Server"
   ]
  },
  {
   "cell_type": "code",
   "execution_count": null,
   "metadata": {},
   "outputs": [],
   "source": [
    "import socket\n",
    "import threading;\n",
    "\n",
    "import pickle\n",
    "from sklearn.externals import joblib\n",
    "\n",
    "import warnings \n",
    "warnings.filterwarnings(\"ignore\")\n",
    "\n",
    "from pandas import Series\n",
    "from pandas import DataFrame as df"
   ]
  },
  {
   "cell_type": "code",
   "execution_count": null,
   "metadata": {},
   "outputs": [],
   "source": [
    "def binder(client_socket, addr):\n",
    "    print('Connected by', addr)\n",
    "    \n",
    "    clf_from_joblib = joblib.load('0601_PSW_RFmodel.pkl') # 모델 로드\n",
    "    scaler = joblib.load(\"0601_PSW_scaler.pkl\") # 스케일러 로드\n",
    "    \n",
    "    try:\n",
    "        while True:\n",
    "            \n",
    "            data = client_socket.recv(1024)\n",
    "#             client_socket.flush()\n",
    "            \n",
    "            msg = data.decode()\n",
    "            print('Received from', addr, msg)\n",
    "            print(\" \")\n",
    "            parse = msg.split(\",\")\n",
    "#             print(\"파싱결과\")\n",
    "#             print(parse)\n",
    "            data_list = [float(parse[6]),\n",
    "                float(parse[7]),\n",
    "                float(parse[8]),\n",
    "                float(parse[12]),\n",
    "                float(parse[13]),\n",
    "                float(parse[14]),\n",
    "                float(parse[18]),\n",
    "                float(parse[19]),\n",
    "                float(parse[20])]\n",
    "            \n",
    "            step_input = df(data_list).transpose()\n",
    "            #print(step_input)\n",
    "            \n",
    "            step_input = df(scaler.transform(step_input)) # 노멀라이즈            \n",
    "            #print(step_input)\n",
    "            \n",
    "            result = clf_from_joblib.predict(step_input) # 스텝인풋 적용 결과            \n",
    "            #print(result)\n",
    "\n",
    "            msg = result[0]\n",
    "            data = msg.encode()\n",
    "            length = len(data)\n",
    "            client_socket.sendall(data)\n",
    "    except:\n",
    "        print(\"except : \" , addr)\n",
    "    finally:\n",
    "        client_socket.close()"
   ]
  },
  {
   "cell_type": "code",
   "execution_count": null,
   "metadata": {
    "scrolled": false
   },
   "outputs": [],
   "source": [
    "server_socket = socket.socket(socket.AF_INET, socket.SOCK_STREAM)\n",
    "server_socket.setsockopt(socket.SOL_SOCKET, socket.SO_REUSEADDR, 1)\n",
    "server_socket.bind(('', 7777))\n",
    "server_socket.listen()\n",
    "\n",
    "try:\n",
    "    while True:\n",
    "        client_socket, addr = server_socket.accept()\n",
    "        th = threading.Thread(target=binder, args = (client_socket,addr))\n",
    "        th.start()\n",
    "except:\n",
    "    print(\"server\")\n",
    "finally:\n",
    "    server_socket.close()"
   ]
  },
  {
   "cell_type": "code",
   "execution_count": null,
   "metadata": {},
   "outputs": [],
   "source": []
  },
  {
   "cell_type": "code",
   "execution_count": null,
   "metadata": {},
   "outputs": [],
   "source": []
  },
  {
   "cell_type": "code",
   "execution_count": null,
   "metadata": {},
   "outputs": [],
   "source": []
  },
  {
   "cell_type": "code",
   "execution_count": null,
   "metadata": {},
   "outputs": [],
   "source": []
  },
  {
   "cell_type": "code",
   "execution_count": null,
   "metadata": {},
   "outputs": [],
   "source": []
  },
  {
   "cell_type": "code",
   "execution_count": null,
   "metadata": {},
   "outputs": [],
   "source": []
  },
  {
   "cell_type": "code",
   "execution_count": null,
   "metadata": {},
   "outputs": [],
   "source": []
  },
  {
   "cell_type": "code",
   "execution_count": null,
   "metadata": {},
   "outputs": [],
   "source": []
  },
  {
   "cell_type": "code",
   "execution_count": null,
   "metadata": {},
   "outputs": [],
   "source": []
  },
  {
   "cell_type": "code",
   "execution_count": null,
   "metadata": {},
   "outputs": [],
   "source": []
  },
  {
   "cell_type": "code",
   "execution_count": null,
   "metadata": {},
   "outputs": [],
   "source": []
  },
  {
   "cell_type": "code",
   "execution_count": null,
   "metadata": {},
   "outputs": [],
   "source": []
  },
  {
   "cell_type": "code",
   "execution_count": null,
   "metadata": {},
   "outputs": [],
   "source": []
  },
  {
   "cell_type": "code",
   "execution_count": null,
   "metadata": {},
   "outputs": [],
   "source": []
  },
  {
   "cell_type": "code",
   "execution_count": null,
   "metadata": {},
   "outputs": [],
   "source": []
  },
  {
   "cell_type": "code",
   "execution_count": null,
   "metadata": {},
   "outputs": [],
   "source": []
  },
  {
   "cell_type": "code",
   "execution_count": null,
   "metadata": {},
   "outputs": [],
   "source": []
  },
  {
   "cell_type": "code",
   "execution_count": null,
   "metadata": {},
   "outputs": [],
   "source": []
  },
  {
   "cell_type": "code",
   "execution_count": null,
   "metadata": {},
   "outputs": [],
   "source": []
  },
  {
   "cell_type": "code",
   "execution_count": null,
   "metadata": {},
   "outputs": [],
   "source": []
  },
  {
   "cell_type": "code",
   "execution_count": null,
   "metadata": {},
   "outputs": [],
   "source": [
    "msg = \"20200515, 19:14:38, 0.06, 26.73714, 1.442945, 11.02973, 0.898469, 0.1125997, 0.4189014, 26.80681, 1.437814, 11.26383, 0.6713184, -0.03039808, 0.7388303, 26.87277, 3.213294, 11.11868, -0.04088308, 0.7835543, 0.07496116, Backward\""
   ]
  },
  {
   "cell_type": "code",
   "execution_count": null,
   "metadata": {},
   "outputs": [],
   "source": [
    "parse = msg.split(\",\")"
   ]
  },
  {
   "cell_type": "code",
   "execution_count": null,
   "metadata": {},
   "outputs": [],
   "source": [
    "data_list = [float(parse[6]),\n",
    "                float(parse[7]),\n",
    "                float(parse[8]),\n",
    "                float(parse[12]),\n",
    "                float(parse[13]),\n",
    "                float(parse[14]),\n",
    "                float(parse[18]),\n",
    "                float(parse[19]),\n",
    "                float(parse[20])]"
   ]
  },
  {
   "cell_type": "code",
   "execution_count": null,
   "metadata": {},
   "outputs": [],
   "source": [
    "data_list = [0.898469,\n",
    " 0.1125997,\n",
    " 0.4189014,\n",
    " 0.6713184,\n",
    " -0.03039808,\n",
    " 0.7388303,\n",
    " -0.04088308,\n",
    " 0.7835543,\n",
    " 0.07496116]\n",
    "\n",
    "aa = df(data_list).transpose()\n",
    "\n",
    "aa"
   ]
  },
  {
   "cell_type": "code",
   "execution_count": null,
   "metadata": {},
   "outputs": [],
   "source": [
    "series = Series(data=data_list)"
   ]
  },
  {
   "cell_type": "code",
   "execution_count": null,
   "metadata": {},
   "outputs": [],
   "source": [
    "aa = df(data_list).transpose()"
   ]
  },
  {
   "cell_type": "code",
   "execution_count": null,
   "metadata": {},
   "outputs": [],
   "source": [
    "aa"
   ]
  },
  {
   "cell_type": "code",
   "execution_count": null,
   "metadata": {},
   "outputs": [],
   "source": [
    "float(parse[6])\n",
    "float(parse[7])\n",
    "float(parse[8])\n",
    "float(parse[12])\n",
    "float(parse[13])\n",
    "float(parse[14])\n",
    "float(parse[18])\n",
    "float(parse[19])\n",
    "float(parse[20])"
   ]
  },
  {
   "cell_type": "code",
   "execution_count": null,
   "metadata": {},
   "outputs": [],
   "source": [
    "clf_from_joblib = joblib.load('step.pkl') "
   ]
  },
  {
   "cell_type": "code",
   "execution_count": null,
   "metadata": {},
   "outputs": [],
   "source": [
    "result = clf_from_joblib.predict(bb)"
   ]
  },
  {
   "cell_type": "code",
   "execution_count": null,
   "metadata": {
    "scrolled": true
   },
   "outputs": [],
   "source": [
    "result[0]"
   ]
  },
  {
   "cell_type": "code",
   "execution_count": null,
   "metadata": {},
   "outputs": [],
   "source": []
  },
  {
   "cell_type": "code",
   "execution_count": null,
   "metadata": {},
   "outputs": [],
   "source": []
  },
  {
   "cell_type": "code",
   "execution_count": null,
   "metadata": {},
   "outputs": [],
   "source": [
    "bb = df(scaler.transform(aa))"
   ]
  },
  {
   "cell_type": "code",
   "execution_count": null,
   "metadata": {},
   "outputs": [],
   "source": [
    "bb = df(scaler.transform(aa))"
   ]
  }
 ],
 "metadata": {
  "kernelspec": {
   "display_name": "Python 3",
   "language": "python",
   "name": "python3"
  },
  "language_info": {
   "codemirror_mode": {
    "name": "ipython",
    "version": 3
   },
   "file_extension": ".py",
   "mimetype": "text/x-python",
   "name": "python",
   "nbconvert_exporter": "python",
   "pygments_lexer": "ipython3",
   "version": "3.8.3"
  }
 },
 "nbformat": 4,
 "nbformat_minor": 2
}
